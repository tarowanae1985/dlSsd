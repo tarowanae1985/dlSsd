{
 "cells": [
  {
   "cell_type": "code",
   "execution_count": 1,
   "metadata": {},
   "outputs": [],
   "source": [
    "# モジュールのインポート\n",
    "import xml.etree.ElementTree as ET\n",
    "import glob\n",
    "\n",
    "# 指定ディレクトリからxmlファイルの読み込み\n",
    "xmls = glob.glob(\"VID_20190310_230824_output\\Annotations\\*.xml\")\n",
    "for xml in xmls:\n",
    "#     print(xml)\n",
    "    xml_tree = ET.parse(xml)\n",
    "\n",
    "    # XML書き換え\n",
    "    filename = xml_tree.find('filename').text\n",
    "    new_filename=filename+\".jpg\"\n",
    "    xml_tree.find('filename').text = new_filename\n",
    "    xml_tree.write(xml, 'utf-8', True)"
   ]
  },
  {
   "cell_type": "code",
   "execution_count": null,
   "metadata": {},
   "outputs": [],
   "source": []
  }
 ],
 "metadata": {
  "kernelspec": {
   "display_name": "Python 3",
   "language": "python",
   "name": "python3"
  },
  "language_info": {
   "codemirror_mode": {
    "name": "ipython",
    "version": 3
   },
   "file_extension": ".py",
   "mimetype": "text/x-python",
   "name": "python",
   "nbconvert_exporter": "python",
   "pygments_lexer": "ipython3",
   "version": "3.6.5"
  }
 },
 "nbformat": 4,
 "nbformat_minor": 2
}
